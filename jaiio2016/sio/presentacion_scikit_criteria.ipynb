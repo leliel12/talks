{
 "cells": [
  {
   "cell_type": "code",
   "execution_count": 1,
   "metadata": {
    "collapsed": true,
    "slideshow": {
     "slide_type": "skip"
    }
   },
   "outputs": [],
   "source": [
    "from __future__ import print_function"
   ]
  },
  {
   "cell_type": "markdown",
   "metadata": {
    "slideshow": {
     "slide_type": "slide"
    }
   },
   "source": [
    "# Scikit-Criteria\n",
    "## Multi-criterio integrado al stack científico de Python\n",
    "\n",
    "\n",
    "**Juan Bautista Cabral**, \n",
    "**Nadia Ayelen Luczywo**,\n",
    "**José Luis Zanazzi**\n",
    "\n",
    "![afiliaciones](imgs/afiliaciones00.png)\n",
    "\n"
   ]
  },
  {
   "cell_type": "markdown",
   "metadata": {
    "slideshow": {
     "slide_type": "slide"
    }
   },
   "source": [
    "## Antecedentes \n",
    "\n",
    "- Los procesos de **toma de decisiones** han sido un objeto de estudio.\n",
    "- Bajo la denominación **Decisión Multicriterio Discreta**, proliferan métodos de soporte matemático aplicables para abordar el problema de evaluar un conjunto de alternativas en términos de una serie de criterios.\n",
    "- Se avanza en el desarrollo de **Paquetes de Software** que soportan estos métodos."
   ]
  },
  {
   "cell_type": "markdown",
   "metadata": {
    "slideshow": {
     "slide_type": "slide"
    }
   },
   "source": [
    "## Variedad de software\n",
    "\n",
    "- VIDMA (Korhonen), \n",
    "- Expert Choice (Saaty),Criterium, HIPRE 3+\n",
    "- HIVIEW (Peterson),\n",
    "- PROMCAL y GAIA (Brans y Mareschal ), \n",
    "- MACBETH (Bana e Costa y Vansnick),\n",
    "- VIP (Dias y Climaco), \n",
    "- Decision Lab (Brans and Mareschal), \n",
    "- Otros \n",
    "\n",
    "### Vassilev y otros (2005)-   Zavadskas, Ustinovichius,y Peldschus (2003)\n"
   ]
  },
  {
   "cell_type": "markdown",
   "metadata": {
    "slideshow": {
     "slide_type": "slide"
    }
   },
   "source": [
    "## Limitaciones de los paquetes Disponibles \n",
    "- El **volumen de datos** sobre el cual se puede operar.\n",
    "- Tervonen (2012) enfatiza que las limitaciones se asocian con el soporte de un **único método** o un pequeño conjunto de métodos similares y con el **código cerrado** que requiere licencias pagas.\n",
    "- Robitaille y otros (2013) destacan desarrollos heterogéneos **desaprovechan los esfuerzos comunitarios**.\n",
    "\n"
   ]
  },
  {
   "cell_type": "markdown",
   "metadata": {
    "slideshow": {
     "slide_type": "slide"
    }
   },
   "source": [
    "## Intentos de selección de los paquetes de software más adecuados\n",
    "\n",
    "- Li y Thomas (2014), proponen un enfoque metodológico para la selección de software DMD.\n",
    "- Mustajoki y Marttunen (2013), avanzan en una propuesta similar de comparación de programas informá ticos para la decisión multi-criterio.\n",
    "- Paradoja de la DMD.\n",
    "\n"
   ]
  },
  {
   "cell_type": "markdown",
   "metadata": {
    "slideshow": {
     "slide_type": "slide"
    }
   },
   "source": [
    "### ¿Qué  posibilidades de superación existen ?\n",
    "\n",
    "**Disponer de métodos multicriterio en un lenguaje multipropósito** de alto nivel que permitan:\n",
    "- La integración de la DMD a arquitecturas mayores a las que están disponibles paquetes propietarios.\n",
    "- El aprovechamiento de las herramientas científicas disponibles en lenguaje de programación de alto nivel. \n",
    "- La realización de implementaciones eficientes en complejidad espacial y temporal de los DMD.  \n",
    "- Y  la migración de datos de un método a otro con la menor conversión de datos."
   ]
  },
  {
   "cell_type": "markdown",
   "metadata": {
    "slideshow": {
     "slide_type": "slide"
    }
   },
   "source": [
    "## Propuesta de superación\n",
    "\n"
   ]
  },
  {
   "cell_type": "markdown",
   "metadata": {
    "slideshow": {
     "slide_type": "fragment"
    }
   },
   "source": [
    "![afiliaciones](imgs/logo_medium.png)\n",
    "\n",
    "   ## http://scikit-criteria.org"
   ]
  },
  {
   "cell_type": "markdown",
   "metadata": {
    "slideshow": {
     "slide_type": "fragment"
    }
   },
   "source": [
    "- Integrado al stack científico de Python.\n",
    "- Implementa métodos mas comunes de DMD.\n",
    "- Posee herramientas para implementar facilmente más metodos de DMD.\n",
    "- Open Source"
   ]
  },
  {
   "cell_type": "markdown",
   "metadata": {
    "slideshow": {
     "slide_type": "slide"
    }
   },
   "source": [
    "### ¿Por que Python?\n",
    "\n",
    "- Lingua franca en ciencia de datos.\n",
    "- Se dispone de librerías cientificas de todo tipo (pandas, nltk, astropy, scikit-bio, sympy, spark, etc)\n",
    "- Es un lenguaje multipropósito.\n",
    "- Open Source."
   ]
  },
  {
   "cell_type": "markdown",
   "metadata": {
    "slideshow": {
     "slide_type": "slide"
    }
   },
   "source": [
    "### Python es Robusto\n",
    "![](imgs/excelproblem.png)\n",
    "\n",
    "- Popular Mechanics: [http://goo.gl/rUlroh](http://www.popularmechanics.com/science/a22577/genetics-papers-excel-errors/)\n",
    "- Paper: [Ziemann, M., Eren, Y., & El-Osta, A. (2016). Gene name errors are widespread in the scientific literature. Genome Biology, 17(1), 177.](http://genomebiology.biomedcentral.com/articles/10.1186/s13059-016-1044-7)"
   ]
  },
  {
   "cell_type": "markdown",
   "metadata": {
    "slideshow": {
     "slide_type": "slide"
    }
   },
   "source": [
    "### Funcionalidades de Scikit-Criteria.\n",
    "\n",
    "- Funcionalidades contenidas en **skcriteria.common** que incluye:\n",
    "    - `skcriteria.common.norm`\n",
    "    - `skcriteria.common.rank`\n",
    "    - `skcriteria.common.util`\n",
    "\n",
    "- Funcionalidades de métodos de DMD (`skcriteria.ahp`, `skcriteria.electre`, `skcriteria.moora`, `skcriteria.topsis`, `skcriteria.wprod`, `skcriteria.wsum`)   "
   ]
  },
  {
   "cell_type": "markdown",
   "metadata": {
    "slideshow": {
     "slide_type": "slide"
    }
   },
   "source": [
    "## Aplicación"
   ]
  },
  {
   "cell_type": "code",
   "execution_count": 5,
   "metadata": {
    "collapsed": false,
    "slideshow": {
     "slide_type": "fragment"
    }
   },
   "outputs": [
    {
     "name": "stdout",
     "output_type": "stream",
     "text": [
      "MOORA: [[5 4 5]\n",
      " [1 5 1]\n",
      " [3 1 3]\n",
      " [6 6 6]\n",
      " [4 2 4]\n",
      " [2 3 2]]\n"
     ]
    }
   ],
   "source": [
    "# cargamos el paquete de MOORA\n",
    "from skcriteria.common.util import MAX, MIN\n",
    "from skcriteria import moora\n",
    "\n",
    "# definimos la matriz de preferencias donde cada fila es una\n",
    "# alternativa y cada columna es un criterio.\n",
    "mtx = [[33.95, 23.78, 11.45, 39.97, 29.44, 167.10, 3.852],\n",
    "       [38.9, 4.17, 6.32, 0.01, 4.29, 132.52, 25.184],\n",
    "       [37.59, 9.36, 8.23, 4.35, 10.22, 136.71, 10.845],\n",
    "       [30.44, 37.59, 13.91, 74.08, 45.10, 198.34, 2.186],\n",
    "       [36.21, 14.79, 9.17, 17.77, 17.06, 148.3, 6.610],\n",
    "       [37.8, 8.55, 7.97, 2.35, 9.25, 134.83, 11.935]]\n",
    "\n",
    "# vector de criterios: tiene la misma longitud que cantidad de \n",
    "# columnas tiene la matriz de preferencias. util.MIN representa \n",
    "# un criterio de minimo y util.MAX uno de maximo\n",
    "criteria = [MIN, MIN, MIN, MIN, MAX, MIN, MAX]\n",
    "\n",
    "# ahora aplicamos Multi-MOORA y obtenemos los valores\n",
    "# del ranking de las alternativas\n",
    "rank = moora.multimoora(mtx, criteria)\n",
    "print(\"MOORA:\", rank[1])"
   ]
  },
  {
   "cell_type": "markdown",
   "metadata": {
    "slideshow": {
     "slide_type": "slide"
    }
   },
   "source": [
    "### Escalemos"
   ]
  },
  {
   "cell_type": "code",
   "execution_count": 11,
   "metadata": {
    "collapsed": false
   },
   "outputs": [
    {
     "name": "stdout",
     "output_type": "stream",
     "text": [
      "Forma: (30000, 1000)\n",
      "Datos: 30000000\n",
      "Criterios: (1000,)\n"
     ]
    }
   ],
   "source": [
    "import random\n",
    "import numpy as np\n",
    "from skcriteria import topsis\n",
    "from skcriteria.common.util import MAX, MIN\n",
    "\n",
    "crit_n = 1000\n",
    "alt_n = 30000 \n",
    "crit_half = crit_n / 2.\n",
    "mtx = np.random.rand(alt_n, crit_n)\n",
    "criteria = np.array([\n",
    "        (MAX if idx > crit_half else MIN) for idx in range(crit_n)])\n",
    "\n",
    "print(\"Forma:\", mtx.shape)\n",
    "print(\"Datos:\", mtx.size)\n",
    "print(\"Criterios:\", criteria.shape)"
   ]
  },
  {
   "cell_type": "code",
   "execution_count": 12,
   "metadata": {
    "collapsed": false,
    "slideshow": {
     "slide_type": "fragment"
    }
   },
   "outputs": [
    {
     "name": "stdout",
     "output_type": "stream",
     "text": [
      "1 loop, best of 1: 1.96 s per loop\n"
     ]
    }
   ],
   "source": [
    "%%timeit -n1 -r1\n",
    "rank = topsis.topsis(mtx, criteria)"
   ]
  },
  {
   "cell_type": "markdown",
   "metadata": {
    "collapsed": true,
    "slideshow": {
     "slide_type": "slide"
    }
   },
   "source": [
    "## Conclusiones.\n",
    "\n",
    "- Se ha diseñado un proyecto de software capaz de integrarse sobre la plataforma Python. \n",
    "- El diseño incluye herramientas comunes (paquete scikit.common) para la extensión de las funcionalidades preexistentes de manera de disminuir el esfuerzo en la realización de análisis multi-criterio.\n",
    "\n",
    "**Trabajo futuro**:\n",
    "Creación de una capa de abstracción orientada a objetos como la existente en Scikit-Learn para\n",
    "facilitar el encapsulamiento de los datos de los métodos DMD."
   ]
  },
  {
   "cell_type": "markdown",
   "metadata": {
    "slideshow": {
     "slide_type": "slide"
    }
   },
   "source": [
    "### ¿Preguntas?\n",
    "\n",
    "**Contactos:**\n",
    "\n",
    "- Nadia <nluczywo@gmail.conm>\n",
    "- Juan <jbc.develop@gmail.com>"
   ]
  }
 ],
 "metadata": {
  "celltoolbar": "Slideshow",
  "kernelspec": {
   "display_name": "Python 2",
   "language": "python",
   "name": "python2"
  },
  "language_info": {
   "codemirror_mode": {
    "name": "ipython",
    "version": 2
   },
   "file_extension": ".py",
   "mimetype": "text/x-python",
   "name": "python",
   "nbconvert_exporter": "python",
   "pygments_lexer": "ipython2",
   "version": "2.7.10"
  }
 },
 "nbformat": 4,
 "nbformat_minor": 0
}
