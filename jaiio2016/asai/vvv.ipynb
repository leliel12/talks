{
 "cells": [
  {
   "cell_type": "markdown",
   "metadata": {
    "slideshow": {
     "slide_type": "slide"
    }
   },
   "source": [
    "# Features en Relevamiento Astronómico *Vista Variables in the Via Lactea* (VVV)\n",
    "\n",
    "Juan B Cabral, Pablo Granitto, Sebastían Gurovich y Dante Minnitti\n",
    "\n",
    "![afiliaciones](imgs/afiliations.png)"
   ]
  },
  {
   "cell_type": "markdown",
   "metadata": {
    "slideshow": {
     "slide_type": "slide"
    }
   },
   "source": [
    "## Mi trabajo\n",
    "\n",
    "    Análisis y diseño de procesos de \n",
    "    minería de datos astrofísicos \n",
    "    sobre catálogos fotométricos \n",
    "    múltiple época\n",
    "\n",
    "### Directores:\n",
    "\n",
    "- Dr. Pablo Granitto (CIFASIS-CONICET-UNR-AMU)\n",
    "- Dr. Sebastián Gurovich (IATE-CONICET-UNC)\n",
    "\n"
   ]
  },
  {
   "cell_type": "markdown",
   "metadata": {
    "slideshow": {
     "slide_type": "slide"
    }
   },
   "source": [
    "## Agenda\n",
    "\n",
    "- Aprendizaje Automático y Astronomía\n",
    "- VVV (Vista Variables en la Vía Láctea)\n",
    "- Estructura de los datos del VVV.\n",
    "- Reconstrucción de series temporales en VVV.\n",
    "- Trabajo a futuro"
   ]
  },
  {
   "cell_type": "markdown",
   "metadata": {
    "slideshow": {
     "slide_type": "slide"
    }
   },
   "source": [
    "## Aprendizaje Automático y Astronomía\n",
    "\n",
    "- La realización de grandes relevamientos astronómicos han generando un crecimiento gigantesco en la \n",
    "  dimensionalidad, cantidad y calidad de datos.\n",
    "- Las bases de datos crecieron al ordenes mayores a los peta-bytes\n",
    "\n",
    "![paranal](imgs/paranalsclice.png)"
   ]
  },
  {
   "cell_type": "markdown",
   "metadata": {
    "collapsed": true,
    "slideshow": {
     "slide_type": "slide"
    }
   },
   "source": [
    "## Aprendizaje Automático y Astronomía (cont.)\n",
    "\n",
    "- La siguiente generación de relevamientos astronómicos (LSST) pretende generar 3GB de datos por segundo.\n",
    "- Parte del funcionamiento de **LIGO** son algoritmos de machine learning.\n",
    "- Los astronomos tipificaron este fenómeno como **tsunami de datos**\n",
    "\n",
    "![ligo](imgs/ligo.png)"
   ]
  },
  {
   "cell_type": "markdown",
   "metadata": {
    "slideshow": {
     "slide_type": "slide"
    }
   },
   "source": [
    "## Sobre los Surveys en General\n",
    "\n",
    "- Los survey son una interesante fuente de datos para ML.\n",
    "- Sin embargo es necesario conocer:\n",
    "    - El objetivo del survey.\n",
    "    - Caracteristicas del telescopio y la cámara del relevamiento\n",
    "    \n",
    "![vista](imgs/vista.png)"
   ]
  },
  {
   "cell_type": "markdown",
   "metadata": {
    "slideshow": {
     "slide_type": "slide"
    }
   },
   "source": [
    "## Vista Variables in the Via Lactea VVV\n",
    "\n",
    "- VVV es un relevamiento de variabilidad en  el infra-rojo cercano del nucleo, bulvo y parte de un brazo de la via lactea.\n",
    "- En el 2015 completo 1929 horas de observasión, en un area of 520 grados cuadrados. (esta en marcha el VVV-X)\n",
    "\n",
    "![pp](imgs/paranal&mw.png)\n",
    "\n"
   ]
  },
  {
   "cell_type": "markdown",
   "metadata": {
    "slideshow": {
     "slide_type": "slide"
    }
   },
   "source": [
    "## Vista Variables in the Via Lactea VVV (Cont.)\n",
    "\n",
    "- Su objetivo es producir un mapa tridimensional de una gran parte del centro\n",
    "  galáctico (Bulbo) de la Vı́a Láctea y de una fracción del Disco Galáctico interno \n",
    "\n",
    "\n",
    "![pp](imgs/vistasurveys.png)"
   ]
  },
  {
   "cell_type": "markdown",
   "metadata": {
    "slideshow": {
     "slide_type": "slide"
    }
   },
   "source": [
    "## Vista Variables in the Via Lactea VVV (Cont.)\n",
    "\n",
    " \n",
    "![pp](imgs/PROFUNDO.png)"
   ]
  },
  {
   "cell_type": "markdown",
   "metadata": {
    "slideshow": {
     "slide_type": "slide"
    }
   },
   "source": [
    "## Vista Variables in the Via Lactea VVV (Cont.)\n",
    "\n",
    " \n",
    "![pp](imgs/ex.png)\n",
    "\n",
    "Diagrama adaptado de Minniti et al 2010 que expone el numero esperado\n",
    "de fenómenos astrofı́sicos que espera detectar VVV en sus catálogos."
   ]
  },
  {
   "cell_type": "markdown",
   "metadata": {
    "slideshow": {
     "slide_type": "slide"
    }
   },
   "source": [
    "## Estructura de los datos\n",
    "\n",
    " \n",
    "![pp](imgs/area.png)\n",
    "\n",
    "Mapa de enrojecimiento de schlegel adaptado de Minniti et al. 2010,\n",
    "mostrando el área del relevamiento en el cielo en coordenadas galácticas y las baldosas\n",
    "que conforman el VVV. En escala de grises esta la densidad estelar proyectada de este\n",
    "mismo campo tomado del relevamiento astronómico “Two Micron All Sky Survey”."
   ]
  },
  {
   "cell_type": "markdown",
   "metadata": {
    "slideshow": {
     "slide_type": "slide"
    }
   },
   "source": [
    "## Estructura de los datos (cont)\n",
    "\n",
    " \n",
    "- Los datos del VVV se presentan en una unidad llamada “baldosa” (tile, en inglés)\n",
    "- Cada baldosa se compone de varias imágenes en alta resolución para diferentes \n",
    "  tipos de filtros de frecuencias lumı́nicas en el infrarrojo cercano (cinco en total).\n",
    "- Por cada imagen existe una base de datos de archivos binarios numérica con los \n",
    "  valores de posición, magnitud y color de las fuentes de luz presentes en \n",
    "  la imagen, llamada “catálogo fotométrico”\n",
    "  "
   ]
  },
  {
   "cell_type": "markdown",
   "metadata": {
    "slideshow": {
     "slide_type": "slide"
    }
   },
   "source": [
    "## Estructura de los datos (cont)\n",
    "\n",
    "![vircam](imgs/vircam.png)\n",
    "\n",
    "A la izquierda el diagrama de los sensores infrarrojos de VIRCAM y a la\n",
    "derecha una foto de la VIRCAM. Adaptado de http://www.vista.ac.uk"
   ]
  },
  {
   "cell_type": "markdown",
   "metadata": {
    "slideshow": {
     "slide_type": "slide"
    }
   },
   "source": [
    "## Estructura de los datos (cont)\n",
    "\n",
    "Hay dos tipos de catálogos.\n",
    "\n",
    "- **Pawprint Stack** Los sensores de VIR-CAM tienen márgenes entre ellos. Es por esto que se necesita\n",
    "  desplazar el telescopio tres veces variando el eje X y 3 veces el eje Y para\n",
    "  completar la imagen de un tile. Cada exposición es llamada Pawprint y la\n",
    "  de las 6 es llamada Pawprint Stack o época por ser la observación de\n",
    "  un Tile en una fecha dada.\n",
    "- **Band-Merge** este catálogo consolida todas las fuentes de un Tile a lo largo\n",
    "  de todas las épocas\n",
    "  \n",
    "Dado las caracterı́sticas técnicas del relevamiento, todas las fuentes en los\n",
    "Band-Merge de magnitud  $\\lesssim 12.$ (muy brillantes que saturan el telescopio) y\n",
    "$\\gtrsim 16.5$ (muy débiles) son ignoradas"
   ]
  },
  {
   "cell_type": "markdown",
   "metadata": {
    "slideshow": {
     "slide_type": "slide"
    }
   },
   "source": [
    "## Series Temporales - Cross Matching\n",
    "\n",
    "En cada Pawprint Stack no hay una forma unı́voca de determinar que objeto\n",
    "observado en un Band-Merge es el mismo que uno observado en el Pawprint-\n",
    "Stack ya que no comparten ningún identificador, y si bien las posiciones medidas son cercanas, no son iguales para la misma fuente.\n",
    "\n",
    "Para superar esta dificultad se utilizó\n",
    "cross-matching. Este método consiste en verificar cuales son las fuentes más\n",
    "cercanas en posición catalogo A a las de un Catálogo B, y viceversa dentro de\n",
    "un intervalo D. Solo se asume que la fuente a del catálogo A y la fuente b del\n",
    "catálogo B son las mismas si a es la más cercana a b, b es la más cercana a a y\n",
    "además están dentro del intervalo de D"
   ]
  },
  {
   "cell_type": "markdown",
   "metadata": {
    "slideshow": {
     "slide_type": "slide"
    }
   },
   "source": [
    "## Series Temporales - Fechas\n",
    "\n",
    "Las fechas de los Pawprint-Stack están definidas como Dı́as Julianos Medios (MJD del inglés Mean Julian\n",
    "Date); que son el promedio de dı́as julianos de todos los Pawprints involucrados\n",
    "en el stack (formato de fecha geocéntrico)\n",
    "\n",
    "Un dı́a juliano es la cantidad de dı́as transcurridos desde\n",
    "el mediodı́a del 1 o de enero del año 4713 a. C.\n",
    "\n",
    "Esto lleva a que la misma fuente (observada en dos épocas distintas),\n",
    "dado que la velocidad de la luz es finita, dependa de la posición del observador\n",
    "en el sistema solar cuando es realizada.\n",
    "\n",
    "Para subsanar la dificultad descrita, se utiliza el Dı́a Juliano Heliocéntrico\n",
    "(HJD del inglés Heliocentric Julian Date) el cual corrige el MJD utilizando las\n",
    "diferencias en la posición de la Tierra con respecto al Sol"
   ]
  },
  {
   "cell_type": "markdown",
   "metadata": {
    "slideshow": {
     "slide_type": "slide"
    }
   },
   "source": [
    "## Series Temporales - Periodo\n",
    "\n",
    "![time](imgs/time.png)"
   ]
  },
  {
   "cell_type": "markdown",
   "metadata": {
    "slideshow": {
     "slide_type": "fragment"
    }
   },
   "source": [
    "![time](imgs/fase.png)"
   ]
  },
  {
   "cell_type": "markdown",
   "metadata": {
    "slideshow": {
     "slide_type": "slide"
    }
   },
   "source": [
    "## Generación de los conjuntos de datos\n",
    "\n",
    "Para generar el conjunto de datos de estrellas RRLyrae (Casos positivos), la\n",
    "alternativa elegida fue buscar los catálogos obtenidos por el relevamiento OGLE III (a la espera de OGLE IV) que superponen su zona de observación del VVV (Tiles `b278, b261, b262, b263 y b264`). De las fuentes de\n",
    "este relevamiento se identificaron las correspondientes en nuestro conjunto de\n",
    "datos con cross-matching.\n",
    "\n",
    "Para los casos de estrellas no variables (Casos negativos) se optó por buscar\n",
    "estrellas que tengan una desviación estándar de magnitud menor a la mediana\n",
    "de las desviaciones estándar de la magnitud de su serie temporal."
   ]
  },
  {
   "cell_type": "markdown",
   "metadata": {
    "slideshow": {
     "slide_type": "slide"
    }
   },
   "source": [
    "## Trabajo a Futuro\n",
    "\n",
    "- Seleccionar y evaluar métodos de ML\n",
    "- PCA\n",
    "\n",
    "Es esperable, dado el volumen de datos de los 4 tiles ( 5 millones de fuentes), que haya una serie de detecciones de falsos positivos (como casos estrellas\n",
    "variables parecidas a las RRLyrae)\n",
    "\n",
    "Hay que tener en cuenta que VVV es un relevamiento de mucho mas profun-\n",
    "didad que OGLE 3 y se espera obtener un número mucho mayor de RRLyrae."
   ]
  },
  {
   "cell_type": "markdown",
   "metadata": {
    "slideshow": {
     "slide_type": "slide"
    }
   },
   "source": [
    "## Preguntas\n",
    "\n",
    "- Juan B Cabral <jbc.develop@gmail.com>\n",
    "\n",
    "![](imgs/VISTA_new_feature_in_Milky_Way_940x588.jpg)"
   ]
  }
 ],
 "metadata": {
  "celltoolbar": "Slideshow",
  "kernelspec": {
   "display_name": "Python 2",
   "language": "python",
   "name": "python2"
  },
  "language_info": {
   "codemirror_mode": {
    "name": "ipython",
    "version": 2
   },
   "file_extension": ".py",
   "mimetype": "text/x-python",
   "name": "python",
   "nbconvert_exporter": "python",
   "pygments_lexer": "ipython2",
   "version": "2.7.10"
  },
  "livereveal": {
   "theme": "sanserif",
   "transition": "zoom"
  }
 },
 "nbformat": 4,
 "nbformat_minor": 0
}
