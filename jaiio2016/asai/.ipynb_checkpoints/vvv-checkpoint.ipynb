{
 "cells": [
  {
   "cell_type": "markdown",
   "metadata": {
    "slideshow": {
     "slide_type": "slide"
    }
   },
   "source": [
    "# Relevamiento Astronómico *Vista Variables in the Via Lactea* (VVV)\n",
    "\n",
    "Juan B Cabral, Pablo Granitto, Sebastían Gurovich y Dante Minnitti\n",
    "\n",
    "![afiliaciones](imgs/afiliations.png)\n"
   ]
  },
  {
   "cell_type": "markdown",
   "metadata": {
    "slideshow": {
     "slide_type": "slide"
    }
   },
   "source": [
    "## Mi trabajo\n",
    "\n",
    "    Análisis y diseño de procesos de \n",
    "    minería de datos astrofísicos \n",
    "    sobre catálogos fotométricos \n",
    "    múltiple época\n",
    "\n",
    "### Directores:\n",
    "\n",
    "- Dr. Pablo Granitto (CIFASIS-CONICET-UNR-AMU)\n",
    "- Dr. Sebastián Gurovich (IATE-CONICET-UNC)\n",
    "\n"
   ]
  },
  {
   "cell_type": "markdown",
   "metadata": {
    "slideshow": {
     "slide_type": "slide"
    }
   },
   "source": [
    "## Agenda\n",
    "\n",
    "- Aprendizaje Automático y Astronomía\n",
    "- VVV (Vista Variables en la Via Láctea)\n",
    "- Estructura de los datos del VVV.\n",
    "- Reconstrucción de series temporales en VVV.\n",
    "- Trabajo a futuro"
   ]
  },
  {
   "cell_type": "markdown",
   "metadata": {
    "slideshow": {
     "slide_type": "slide"
    }
   },
   "source": [
    "## Aprendizaje Automático y Astronomía\n",
    "\n",
    "- El desarrollo de modernos telescopios terrestres y satelitales ha impulsado la realización de grandes\n",
    "  relevamientos astronómicos, los cuales, a su vez, han generando un crecimiento gigantesco en la dimensionalidad,\n",
    "  cantidad y calidad de datos a ser procesados, almacenados y analizados.\n",
    "- Las bases de datos crecieron al ordenes mayores a los peta-bytes.\n",
    "- La siguiente generación de relevamientos astronómicos (LSST) pretende generar 3GB de datos por segundo.\n",
    "- LIGO \n",
    "- Los astronomos tipificaron este fenómeno como **tsunami de datos**\n",
    "\n",
    "![afiliaciones](imgs/paranal.png)"
   ]
  },
  {
   "cell_type": "markdown",
   "metadata": {
    "slideshow": {
     "slide_type": "fragment"
    }
   },
   "source": [
    "-  El desarrollo de modernos telescopios terrestres y satelitales ha impulsado\n",
    "   la realización de grandes relevamientos astronómicos, los cuales, a su vez, han\n",
    "   generando un crecimiento gigantesco en la dimensionalidad, cantidad y calidad\n",
    "   de datos a ser procesados, almacenados y analizados."
   ]
  },
  {
   "cell_type": "code",
   "execution_count": null,
   "metadata": {
    "collapsed": true
   },
   "outputs": [],
   "source": []
  }
 ],
 "metadata": {
  "celltoolbar": "Slideshow",
  "kernelspec": {
   "display_name": "Python 2",
   "language": "python",
   "name": "python2"
  },
  "language_info": {
   "codemirror_mode": {
    "name": "ipython",
    "version": 2
   },
   "file_extension": ".py",
   "mimetype": "text/x-python",
   "name": "python",
   "nbconvert_exporter": "python",
   "pygments_lexer": "ipython2",
   "version": "2.7.10"
  }
 },
 "nbformat": 4,
 "nbformat_minor": 0
}
