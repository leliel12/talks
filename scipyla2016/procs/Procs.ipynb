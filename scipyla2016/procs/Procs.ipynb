{
 "cells": [
  {
   "cell_type": "markdown",
   "metadata": {
    "slideshow": {
     "slide_type": "slide"
    }
   },
   "source": [
    "# External Process\n",
    "## Juan B Cabral\n",
    "### SciPy LatAm 2016\n",
    "### 18-05-2016 - Florianopolis - SC - Brazil"
   ]
  },
  {
   "cell_type": "markdown",
   "metadata": {
    "slideshow": {
     "slide_type": "slide"
    }
   },
   "source": [
    "## Problem\n",
    "\n",
    "- Probably you need to interact with a legacy code \n",
    "- The source code is missing\n",
    "- The program has no another api than the CLI\n",
    "- The software is propietary"
   ]
  },
  {
   "cell_type": "markdown",
   "metadata": {
    "slideshow": {
     "slide_type": "slide"
    }
   },
   "source": [
    "## Alternative 1 - `os.system`"
   ]
  },
  {
   "cell_type": "code",
   "execution_count": 49,
   "metadata": {
    "collapsed": false
   },
   "outputs": [
    {
     "name": "stdout",
     "output_type": "stream",
     "text": [
      "0\n"
     ]
    }
   ],
   "source": [
    "import os\n",
    "code = os.system(\"ls -l\")\n",
    "print code"
   ]
  },
  {
   "cell_type": "markdown",
   "metadata": {
    "slideshow": {
     "slide_type": "fragment"
    }
   },
   "source": [
    "**AND THE OUTPUT?!?!?!?!?**"
   ]
  },
  {
   "cell_type": "markdown",
   "metadata": {
    "slideshow": {
     "slide_type": "slide"
    }
   },
   "source": [
    "## Alternative 1 - os.system (cont).\n",
    "\n",
    "- If you detect an error you need to raise an exception manually\n"
   ]
  },
  {
   "cell_type": "code",
   "execution_count": 50,
   "metadata": {
    "collapsed": false
   },
   "outputs": [
    {
     "ename": "Exception",
     "evalue": "Something gone wrong",
     "output_type": "error",
     "traceback": [
      "\u001b[1;31m---------------------------------------------------------------------------\u001b[0m",
      "\u001b[1;31mException\u001b[0m                                 Traceback (most recent call last)",
      "\u001b[1;32m<ipython-input-50-a902ab4ff68b>\u001b[0m in \u001b[0;36m<module>\u001b[1;34m()\u001b[0m\n\u001b[0;32m      2\u001b[0m \u001b[1;33m\u001b[0m\u001b[0m\n\u001b[0;32m      3\u001b[0m \u001b[1;32mif\u001b[0m \u001b[0mcode\u001b[0m \u001b[1;33m!=\u001b[0m \u001b[1;36m0\u001b[0m\u001b[1;33m:\u001b[0m\u001b[1;33m\u001b[0m\u001b[0m\n\u001b[1;32m----> 4\u001b[1;33m     \u001b[1;32mraise\u001b[0m \u001b[0mException\u001b[0m\u001b[1;33m(\u001b[0m\u001b[1;34m\"Something gone wrong\"\u001b[0m\u001b[1;33m)\u001b[0m\u001b[1;33m\u001b[0m\u001b[0m\n\u001b[0m",
      "\u001b[1;31mException\u001b[0m: Something gone wrong"
     ]
    }
   ],
   "source": [
    "code = os.system(\"bad command\")\n",
    "\n",
    "if code != 0:\n",
    "    raise Exception(\"Something gone wrong\")"
   ]
  },
  {
   "cell_type": "markdown",
   "metadata": {
    "slideshow": {
     "slide_type": "slide"
    }
   },
   "source": [
    "## Alternative 2 - Popen Family\n",
    "\n",
    "- Exist a family of Popen module"
   ]
  },
  {
   "cell_type": "code",
   "execution_count": null,
   "metadata": {
    "collapsed": false
   },
   "outputs": [],
   "source": [
    "proc = os.popen('ls -l')"
   ]
  },
  {
   "cell_type": "code",
   "execution_count": null,
   "metadata": {
    "collapsed": false,
    "slideshow": {
     "slide_type": "fragment"
    }
   },
   "outputs": [],
   "source": [
    "print proc.read()"
   ]
  },
  {
   "cell_type": "markdown",
   "metadata": {
    "slideshow": {
     "slide_type": "slide"
    }
   },
   "source": [
    "## Problems\n",
    "\n",
    "- `os.system` and `os.popen` are dangerous.\n",
    "- Also the modules/functions `os.spawn*`, `popen2.*`, `commands.*`\n",
    "- All this codes execute the commands in **shell** mode that expand the shell wildcards.\n",
    "- Things like `rm -rf /` will work."
   ]
  },
  {
   "cell_type": "markdown",
   "metadata": {
    "slideshow": {
     "slide_type": "slide"
    }
   },
   "source": [
    "## Subprocess\n",
    "\n",
    "**From the docs**\n",
    "\n",
    "The subprocess module allows you to spawn new processes, connect to their input/output/error pipes, and obtain their return codes. This module intends to replace several older modules and functions:\n",
    "\n",
    "```\n",
    "os.system\n",
    "os.spawn*\n",
    "os.popen*\n",
    "popen2.*\n",
    "commands.*\n",
    "```"
   ]
  },
  {
   "cell_type": "markdown",
   "metadata": {
    "slideshow": {
     "slide_type": "slide"
    }
   },
   "source": [
    "## Subprocess (cont)"
   ]
  },
  {
   "cell_type": "code",
   "execution_count": null,
   "metadata": {
    "collapsed": false
   },
   "outputs": [],
   "source": [
    "import subprocess\n",
    "\n",
    "subprocess.call([\"ls\", \"-l\"])"
   ]
  },
  {
   "cell_type": "code",
   "execution_count": null,
   "metadata": {
    "collapsed": false,
    "slideshow": {
     "slide_type": "fragment"
    }
   },
   "outputs": [],
   "source": [
    "subprocess.call([\"ls\", \"-l\", \"*\"]) # this not work"
   ]
  },
  {
   "cell_type": "code",
   "execution_count": null,
   "metadata": {
    "collapsed": false,
    "slideshow": {
     "slide_type": "fragment"
    }
   },
   "outputs": [],
   "source": [
    "subprocess.call([\"ls\", \"-l\", \"*\"], shell=True) # but you can add som unsafety behavior"
   ]
  },
  {
   "cell_type": "markdown",
   "metadata": {
    "slideshow": {
     "slide_type": "fragment"
    }
   },
   "source": [
    "### Prepare Parameters"
   ]
  },
  {
   "cell_type": "code",
   "execution_count": null,
   "metadata": {
    "collapsed": false,
    "slideshow": {
     "slide_type": "-"
    }
   },
   "outputs": [],
   "source": [
    "import shlex\n",
    "print shlex.split(\"ls -l \")"
   ]
  },
  {
   "cell_type": "markdown",
   "metadata": {
    "slideshow": {
     "slide_type": "fragment"
    }
   },
   "source": [
    "And the output??"
   ]
  },
  {
   "cell_type": "markdown",
   "metadata": {
    "slideshow": {
     "slide_type": "slide"
    }
   },
   "source": [
    "## Subprocess (cont.)"
   ]
  },
  {
   "cell_type": "code",
   "execution_count": null,
   "metadata": {
    "collapsed": false
   },
   "outputs": [],
   "source": [
    "p = subprocess.Popen(\n",
    "    [\"ls\", \"-l\"],\n",
    "    stdout=subprocess.PIPE, stderr=subprocess.PIPE, shell=False)\n",
    "out, err = p.communicate()\n",
    "\n",
    "print out"
   ]
  },
  {
   "cell_type": "markdown",
   "metadata": {
    "slideshow": {
     "slide_type": "slide"
    }
   },
   "source": [
    "### Subprocess - Cont\n",
    "\n",
    "`subprocess` raise an exception on error"
   ]
  },
  {
   "cell_type": "code",
   "execution_count": null,
   "metadata": {
    "collapsed": false
   },
   "outputs": [],
   "source": [
    "subprocess.call(\"foo\")"
   ]
  },
  {
   "cell_type": "markdown",
   "metadata": {
    "slideshow": {
     "slide_type": "slide"
    }
   },
   "source": [
    "## Conclusions (so far)\n",
    "\n",
    "- Subprocess works\n",
    "- Have a pythonic behavior\n",
    "- Is flexible\n",
    "- But... "
   ]
  },
  {
   "cell_type": "markdown",
   "metadata": {
    "slideshow": {
     "slide_type": "fragment"
    }
   },
   "source": [
    "If we have a DSL for arrays with **numpy**, dataframes with **pandas**, RDBMS with **sqlAlchemy**: \n",
    "\n",
    "    why we don't have a DSL for shell expresions?"
   ]
  },
  {
   "cell_type": "markdown",
   "metadata": {
    "slideshow": {
     "slide_type": "slide"
    }
   },
   "source": [
    "## Sh\n",
    "\n",
    "sh (previously pbs) is a full-fledged subprocess interface for Python that allows you to call any program as if it were a function.\n",
    "\n",
    "- Homepage: https://amoffat.github.io/sh/\n",
    "- Installation:\n",
    " \n",
    "    `$ pip install sh`"
   ]
  },
  {
   "cell_type": "code",
   "execution_count": null,
   "metadata": {
    "collapsed": false,
    "slideshow": {
     "slide_type": "fragment"
    }
   },
   "outputs": [],
   "source": [
    "import sh\n",
    "sh.ls(l=True)"
   ]
  },
  {
   "cell_type": "markdown",
   "metadata": {
    "slideshow": {
     "slide_type": "slide"
    }
   },
   "source": [
    "## Sh - Cont\n",
    "\n",
    "For commands with more exotic characters in their names, like ., or if you just don’t like the “magic”-ness of dynamic lookups, you may use sh’s Command wrapper and pass in the command name or the absolute path of the executable:\n",
    "\n",
    "```python\n",
    "import sh\n",
    "run = sh.Command(\"/home/amoffat/run.sh\") # Absolute path\n",
    "run()\n",
    "lscmd = sh.Command(\"ls\")  # Absolute path not needed\n",
    "lscmd()\n",
    "```"
   ]
  },
  {
   "cell_type": "markdown",
   "metadata": {
    "slideshow": {
     "slide_type": "slide"
    }
   },
   "source": [
    "## Sh - Cont\n",
    "\n",
    "Commands suppor short-form -a and long-form --arg arguments as keyword arguments:\n",
    "\n",
    "resolves to \"curl http://duckduckgo.com/ -o page.html --silent\"\n",
    "```python\n",
    "curl(\"http://duckduckgo.com/\", o=\"page.html\", silent=True)\n",
    "```\n",
    "\n",
    "or if you prefer not to use keyword arguments, this does the same thing:\n",
    "\n",
    "```python\n",
    "curl(\"http://duckduckgo.com/\", \"-o\", \"page.html\", \"--silent\")\n",
    "```"
   ]
  },
  {
   "cell_type": "markdown",
   "metadata": {
    "slideshow": {
     "slide_type": "slide"
    }
   },
   "source": [
    "## Sh - Sub-commands\n",
    "Many programs have their own command subsets, like git (branch, checkout), svn (update, status), and sudo (where any command following sudo is considered a sub-command). sh handles subcommands through attribute access:\n",
    "\n",
    "```python\n",
    "from sh import git, sudo\n",
    "\n",
    "# resolves to \"git branch -v\"\n",
    "print(git.branch(\"-v\"))\n",
    "print(git(\"branch\", \"-v\")) # the same command\n",
    "\n",
    "# resolves to \"sudo /bin/ls /root\"\n",
    "print(sudo.ls(\"/root\"))\n",
    "print(sudo(\"/bin/ls\", \"/root\")) # the same command\n",
    "```"
   ]
  },
  {
   "cell_type": "markdown",
   "metadata": {
    "slideshow": {
     "slide_type": "slide"
    }
   },
   "source": [
    "### 'With' Contexts\n",
    "\n",
    "```python\n",
    "with sudo:\n",
    "    print(ls(\"/root\"))\n",
    "```"
   ]
  },
  {
   "cell_type": "markdown",
   "metadata": {
    "slideshow": {
     "slide_type": "slide"
    }
   },
   "source": [
    "## STDOUT/ERR callbacks\n",
    "\n",
    "sh can use callbacks to process output incrementally. This is done much like redirection: by passing an argument to either the _out or _err (or both) special keyword arguments, except this time, you pass a callable. This callable will be called for each line (or chunk) of data that your command outputs:\n",
    "\n",
    "```python\n",
    "from sh import tail\n",
    "\n",
    "def process_output(line):\n",
    "    print(line)\n",
    "\n",
    "p = tail(\"-f\", \"/var/log/some_log_file.log\", \n",
    "         _out=process_output)\n",
    "p.wait()\n",
    "```"
   ]
  },
  {
   "cell_type": "markdown",
   "metadata": {
    "slideshow": {
     "slide_type": "slide"
    }
   },
   "source": [
    "## Environments\n",
    "\n",
    "The special keyword argument _env allows you to pass a dictionary of environement variables and their corresponding values:\n",
    "\n",
    "```python\n",
    "import os\n",
    "import sh\n",
    "\n",
    "new_env = os.environ.copy()\n",
    "new_env[\"SOCKS_SERVER\"] = \"localhost:1234\"\n",
    "\n",
    "sh.google_chrome(_env=new_env)\n",
    "```"
   ]
  },
  {
   "cell_type": "markdown",
   "metadata": {
    "slideshow": {
     "slide_type": "slide"
    }
   },
   "source": [
    "## Question\n",
    "\n",
    "- Contact: jbc.develop@gmail.com\n",
    "- Twitter: @jbcabral.com\n",
    "    \n",
    "    \n",
    "### Thanks!!"
   ]
  }
 ],
 "metadata": {
  "celltoolbar": "Slideshow",
  "kernelspec": {
   "display_name": "Python 2",
   "language": "python",
   "name": "python2"
  },
  "language_info": {
   "codemirror_mode": {
    "name": "ipython",
    "version": 2
   },
   "file_extension": ".py",
   "mimetype": "text/x-python",
   "name": "python",
   "nbconvert_exporter": "python",
   "pygments_lexer": "ipython2",
   "version": "2.7.10"
  }
 },
 "nbformat": 4,
 "nbformat_minor": 0
}
